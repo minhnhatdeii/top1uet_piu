{
 "cells": [
  {
   "cell_type": "markdown",
   "id": "d53c3c6f-31a8-4620-b4d9-19ee7cd069e3",
   "metadata": {},
   "source": [
    "# Phân tích các câu hỏi về thời gian sử dụng internet"
   ]
  },
  {
   "cell_type": "markdown",
   "id": "2efc1404-30a9-4a5d-9c69-dee025b47dde",
   "metadata": {},
   "source": [
    "## Init Data"
   ]
  },
  {
   "cell_type": "code",
   "execution_count": 12,
   "id": "94125f88-d790-46e3-8eb7-2a81d9b4adeb",
   "metadata": {},
   "outputs": [
    {
     "data": {
      "text/html": [
       "<div>\n",
       "<style scoped>\n",
       "    .dataframe tbody tr th:only-of-type {\n",
       "        vertical-align: middle;\n",
       "    }\n",
       "\n",
       "    .dataframe tbody tr th {\n",
       "        vertical-align: top;\n",
       "    }\n",
       "\n",
       "    .dataframe thead th {\n",
       "        text-align: right;\n",
       "    }\n",
       "</style>\n",
       "<table border=\"1\" class=\"dataframe\">\n",
       "  <thead>\n",
       "    <tr style=\"text-align: right;\">\n",
       "      <th></th>\n",
       "      <th>id</th>\n",
       "      <th>Basic_Demos-Enroll_Season</th>\n",
       "      <th>Basic_Demos-Age</th>\n",
       "      <th>Basic_Demos-Sex</th>\n",
       "      <th>CGAS-Season</th>\n",
       "      <th>CGAS-CGAS_Score</th>\n",
       "      <th>Physical-Season</th>\n",
       "      <th>Physical-BMI</th>\n",
       "      <th>Physical-Height</th>\n",
       "      <th>Physical-Weight</th>\n",
       "      <th>...</th>\n",
       "      <th>PCIAT-PCIAT_18</th>\n",
       "      <th>PCIAT-PCIAT_19</th>\n",
       "      <th>PCIAT-PCIAT_20</th>\n",
       "      <th>PCIAT-PCIAT_Total</th>\n",
       "      <th>SDS-Season</th>\n",
       "      <th>SDS-SDS_Total_Raw</th>\n",
       "      <th>SDS-SDS_Total_T</th>\n",
       "      <th>PreInt_EduHx-Season</th>\n",
       "      <th>PreInt_EduHx-computerinternet_hoursday</th>\n",
       "      <th>sii</th>\n",
       "    </tr>\n",
       "  </thead>\n",
       "  <tbody>\n",
       "    <tr>\n",
       "      <th>0</th>\n",
       "      <td>00008ff9</td>\n",
       "      <td>Fall</td>\n",
       "      <td>5</td>\n",
       "      <td>0</td>\n",
       "      <td>Winter</td>\n",
       "      <td>51.0</td>\n",
       "      <td>Fall</td>\n",
       "      <td>16.877316</td>\n",
       "      <td>46.0</td>\n",
       "      <td>50.8</td>\n",
       "      <td>...</td>\n",
       "      <td>4.0</td>\n",
       "      <td>2.0</td>\n",
       "      <td>4.0</td>\n",
       "      <td>55.0</td>\n",
       "      <td>NaN</td>\n",
       "      <td>NaN</td>\n",
       "      <td>NaN</td>\n",
       "      <td>Fall</td>\n",
       "      <td>3.0</td>\n",
       "      <td>2.0</td>\n",
       "    </tr>\n",
       "    <tr>\n",
       "      <th>1</th>\n",
       "      <td>000fd460</td>\n",
       "      <td>Summer</td>\n",
       "      <td>9</td>\n",
       "      <td>0</td>\n",
       "      <td>NaN</td>\n",
       "      <td>NaN</td>\n",
       "      <td>Fall</td>\n",
       "      <td>14.035590</td>\n",
       "      <td>48.0</td>\n",
       "      <td>46.0</td>\n",
       "      <td>...</td>\n",
       "      <td>0.0</td>\n",
       "      <td>0.0</td>\n",
       "      <td>0.0</td>\n",
       "      <td>0.0</td>\n",
       "      <td>Fall</td>\n",
       "      <td>46.0</td>\n",
       "      <td>64.0</td>\n",
       "      <td>Summer</td>\n",
       "      <td>0.0</td>\n",
       "      <td>0.0</td>\n",
       "    </tr>\n",
       "    <tr>\n",
       "      <th>2</th>\n",
       "      <td>00105258</td>\n",
       "      <td>Summer</td>\n",
       "      <td>10</td>\n",
       "      <td>1</td>\n",
       "      <td>Fall</td>\n",
       "      <td>71.0</td>\n",
       "      <td>Fall</td>\n",
       "      <td>16.648696</td>\n",
       "      <td>56.5</td>\n",
       "      <td>75.6</td>\n",
       "      <td>...</td>\n",
       "      <td>2.0</td>\n",
       "      <td>1.0</td>\n",
       "      <td>1.0</td>\n",
       "      <td>28.0</td>\n",
       "      <td>Fall</td>\n",
       "      <td>38.0</td>\n",
       "      <td>54.0</td>\n",
       "      <td>Summer</td>\n",
       "      <td>2.0</td>\n",
       "      <td>0.0</td>\n",
       "    </tr>\n",
       "    <tr>\n",
       "      <th>3</th>\n",
       "      <td>00115b9f</td>\n",
       "      <td>Winter</td>\n",
       "      <td>9</td>\n",
       "      <td>0</td>\n",
       "      <td>Fall</td>\n",
       "      <td>71.0</td>\n",
       "      <td>Summer</td>\n",
       "      <td>18.292347</td>\n",
       "      <td>56.0</td>\n",
       "      <td>81.6</td>\n",
       "      <td>...</td>\n",
       "      <td>3.0</td>\n",
       "      <td>4.0</td>\n",
       "      <td>1.0</td>\n",
       "      <td>44.0</td>\n",
       "      <td>Summer</td>\n",
       "      <td>31.0</td>\n",
       "      <td>45.0</td>\n",
       "      <td>Winter</td>\n",
       "      <td>0.0</td>\n",
       "      <td>1.0</td>\n",
       "    </tr>\n",
       "    <tr>\n",
       "      <th>4</th>\n",
       "      <td>0016bb22</td>\n",
       "      <td>Spring</td>\n",
       "      <td>18</td>\n",
       "      <td>1</td>\n",
       "      <td>Summer</td>\n",
       "      <td>NaN</td>\n",
       "      <td>NaN</td>\n",
       "      <td>NaN</td>\n",
       "      <td>NaN</td>\n",
       "      <td>NaN</td>\n",
       "      <td>...</td>\n",
       "      <td>NaN</td>\n",
       "      <td>NaN</td>\n",
       "      <td>NaN</td>\n",
       "      <td>NaN</td>\n",
       "      <td>NaN</td>\n",
       "      <td>NaN</td>\n",
       "      <td>NaN</td>\n",
       "      <td>NaN</td>\n",
       "      <td>NaN</td>\n",
       "      <td>NaN</td>\n",
       "    </tr>\n",
       "  </tbody>\n",
       "</table>\n",
       "<p>5 rows × 82 columns</p>\n",
       "</div>"
      ],
      "text/plain": [
       "         id Basic_Demos-Enroll_Season  Basic_Demos-Age  Basic_Demos-Sex  \\\n",
       "0  00008ff9                      Fall                5                0   \n",
       "1  000fd460                    Summer                9                0   \n",
       "2  00105258                    Summer               10                1   \n",
       "3  00115b9f                    Winter                9                0   \n",
       "4  0016bb22                    Spring               18                1   \n",
       "\n",
       "  CGAS-Season  CGAS-CGAS_Score Physical-Season  Physical-BMI  Physical-Height  \\\n",
       "0      Winter             51.0            Fall     16.877316             46.0   \n",
       "1         NaN              NaN            Fall     14.035590             48.0   \n",
       "2        Fall             71.0            Fall     16.648696             56.5   \n",
       "3        Fall             71.0          Summer     18.292347             56.0   \n",
       "4      Summer              NaN             NaN           NaN              NaN   \n",
       "\n",
       "   Physical-Weight  ...  PCIAT-PCIAT_18  PCIAT-PCIAT_19  PCIAT-PCIAT_20  \\\n",
       "0             50.8  ...             4.0             2.0             4.0   \n",
       "1             46.0  ...             0.0             0.0             0.0   \n",
       "2             75.6  ...             2.0             1.0             1.0   \n",
       "3             81.6  ...             3.0             4.0             1.0   \n",
       "4              NaN  ...             NaN             NaN             NaN   \n",
       "\n",
       "   PCIAT-PCIAT_Total SDS-Season  SDS-SDS_Total_Raw  SDS-SDS_Total_T  \\\n",
       "0               55.0        NaN                NaN              NaN   \n",
       "1                0.0       Fall               46.0             64.0   \n",
       "2               28.0       Fall               38.0             54.0   \n",
       "3               44.0     Summer               31.0             45.0   \n",
       "4                NaN        NaN                NaN              NaN   \n",
       "\n",
       "   PreInt_EduHx-Season PreInt_EduHx-computerinternet_hoursday  sii  \n",
       "0                 Fall                                    3.0  2.0  \n",
       "1               Summer                                    0.0  0.0  \n",
       "2               Summer                                    2.0  0.0  \n",
       "3               Winter                                    0.0  1.0  \n",
       "4                  NaN                                    NaN  NaN  \n",
       "\n",
       "[5 rows x 82 columns]"
      ]
     },
     "execution_count": 12,
     "metadata": {},
     "output_type": "execute_result"
    }
   ],
   "source": [
    "#import lib\n",
    "import pandas as pd\n",
    "import numpy as np\n",
    "import seaborn as sns\n",
    "import matplotlib.pyplot as plt\n",
    "\n",
    "train_df = pd.read_csv(\"data/train.csv\")\n",
    "test_df = pd.read_csv(\"data/test.csv\")\n",
    "\n",
    "train_df.head()"
   ]
  },
  {
   "cell_type": "code",
   "execution_count": 8,
   "id": "d2ebcc3a-85b6-47fc-99e0-423735d3d525",
   "metadata": {},
   "outputs": [],
   "source": [
    "# feature category\n",
    "features = [\"Basic_Demos-Enroll_Season\",\"CGAS-Season\",\"Physical-Season\",\"FGC-Season\",\"BIA-Season\",\"PAQ_A-Season\",\"PAQ_C-Season\",\"PCIAT-Season\",\"SDS-Season\",\"PreInt_EduHx-Season\",\n",
    "            \"PCIAT-PCIAT_01\",\"PCIAT-PCIAT_02\",\"PCIAT-PCIAT_03\",\"PCIAT-PCIAT_04\",\"PCIAT-PCIAT_05\",\"PCIAT-PCIAT_06\",\n",
    "            \"PCIAT-PCIAT_07\",\"PCIAT-PCIAT_08\",\"PCIAT-PCIAT_09\",\"PCIAT-PCIAT_10\",\"PCIAT-PCIAT_11\",\"PCIAT-PCIAT_12\",\"PCIAT-PCIAT_13\",\"PCIAT-PCIAT_14\",\"PCIAT-PCIAT_15\",\n",
    "            \"PCIAT-PCIAT_16\",\"PCIAT-PCIAT_17\",\"PCIAT-PCIAT_18\",\"PCIAT-PCIAT_19\",\"PCIAT-PCIAT_20\",\"PreInt_EduHx-computerinternet_hoursday\", \"sii\"]\n",
    "def convert_cate(df, features):\n",
    "    for i in features:\n",
    "        if i in df.columns:\n",
    "            df[i] = df[i].astype(\"category\")\n",
    "convert_cate(test_df, features)\n",
    "convert_cate(train_df, features) \n",
    "\n",
    "# feature float64\n",
    "features = []\n",
    "def convert_float(df, features):\n",
    "    for i in features:\n",
    "        if i in df.columns:\n",
    "            df[i] = df[i].astype(\"float64\")\n",
    "convert_float(test_df, features)\n",
    "convert_float(train_df, features) \n",
    "\n",
    "# feature string\n",
    "features = [\"id\"]\n",
    "def convert_string(df, features):\n",
    "    for i in features:\n",
    "        if i in df.columns:\n",
    "            df[i] = df[i].astype(\"string\")\n",
    "convert_string(test_df, features)\n",
    "convert_string(train_df, features) "
   ]
  },
  {
   "cell_type": "markdown",
   "id": "6d179fb9-1ff3-488c-94f6-6f96c04f13b0",
   "metadata": {},
   "source": [
    "###\n",
    "###"
   ]
  },
  {
   "cell_type": "markdown",
   "id": "3769d379-a99f-4081-8c35-3545fe75f634",
   "metadata": {},
   "source": [
    "## Lọc các feature cần phân tích\n"
   ]
  },
  {
   "cell_type": "code",
   "execution_count": 3,
   "id": "45a7a129-3b26-4d02-925e-c00e84ff8015",
   "metadata": {},
   "outputs": [
    {
     "data": {
      "text/html": [
       "<div>\n",
       "<style scoped>\n",
       "    .dataframe tbody tr th:only-of-type {\n",
       "        vertical-align: middle;\n",
       "    }\n",
       "\n",
       "    .dataframe tbody tr th {\n",
       "        vertical-align: top;\n",
       "    }\n",
       "\n",
       "    .dataframe thead th {\n",
       "        text-align: right;\n",
       "    }\n",
       "</style>\n",
       "<table border=\"1\" class=\"dataframe\">\n",
       "  <thead>\n",
       "    <tr style=\"text-align: right;\">\n",
       "      <th></th>\n",
       "      <th>PCIAT-PCIAT_01</th>\n",
       "      <th>PCIAT-PCIAT_02</th>\n",
       "      <th>PCIAT-PCIAT_03</th>\n",
       "      <th>PCIAT-PCIAT_04</th>\n",
       "      <th>PCIAT-PCIAT_05</th>\n",
       "      <th>PCIAT-PCIAT_06</th>\n",
       "      <th>PCIAT-PCIAT_07</th>\n",
       "      <th>PCIAT-PCIAT_08</th>\n",
       "      <th>PCIAT-PCIAT_09</th>\n",
       "      <th>PCIAT-PCIAT_10</th>\n",
       "      <th>...</th>\n",
       "      <th>PCIAT-PCIAT_12</th>\n",
       "      <th>PCIAT-PCIAT_13</th>\n",
       "      <th>PCIAT-PCIAT_14</th>\n",
       "      <th>PCIAT-PCIAT_15</th>\n",
       "      <th>PCIAT-PCIAT_16</th>\n",
       "      <th>PCIAT-PCIAT_17</th>\n",
       "      <th>PCIAT-PCIAT_18</th>\n",
       "      <th>PCIAT-PCIAT_19</th>\n",
       "      <th>PCIAT-PCIAT_20</th>\n",
       "      <th>PCIAT-PCIAT_Total</th>\n",
       "    </tr>\n",
       "  </thead>\n",
       "  <tbody>\n",
       "    <tr>\n",
       "      <th>0</th>\n",
       "      <td>5.0</td>\n",
       "      <td>4.0</td>\n",
       "      <td>4.0</td>\n",
       "      <td>0.0</td>\n",
       "      <td>4.0</td>\n",
       "      <td>0.0</td>\n",
       "      <td>0.0</td>\n",
       "      <td>4.0</td>\n",
       "      <td>0.0</td>\n",
       "      <td>0.0</td>\n",
       "      <td>...</td>\n",
       "      <td>0.0</td>\n",
       "      <td>4.0</td>\n",
       "      <td>4.0</td>\n",
       "      <td>4.0</td>\n",
       "      <td>4.0</td>\n",
       "      <td>4.0</td>\n",
       "      <td>4.0</td>\n",
       "      <td>2.0</td>\n",
       "      <td>4.0</td>\n",
       "      <td>55.0</td>\n",
       "    </tr>\n",
       "    <tr>\n",
       "      <th>1</th>\n",
       "      <td>0.0</td>\n",
       "      <td>0.0</td>\n",
       "      <td>0.0</td>\n",
       "      <td>0.0</td>\n",
       "      <td>0.0</td>\n",
       "      <td>0.0</td>\n",
       "      <td>0.0</td>\n",
       "      <td>0.0</td>\n",
       "      <td>0.0</td>\n",
       "      <td>0.0</td>\n",
       "      <td>...</td>\n",
       "      <td>0.0</td>\n",
       "      <td>0.0</td>\n",
       "      <td>0.0</td>\n",
       "      <td>0.0</td>\n",
       "      <td>0.0</td>\n",
       "      <td>0.0</td>\n",
       "      <td>0.0</td>\n",
       "      <td>0.0</td>\n",
       "      <td>0.0</td>\n",
       "      <td>0.0</td>\n",
       "    </tr>\n",
       "    <tr>\n",
       "      <th>2</th>\n",
       "      <td>5.0</td>\n",
       "      <td>2.0</td>\n",
       "      <td>2.0</td>\n",
       "      <td>1.0</td>\n",
       "      <td>2.0</td>\n",
       "      <td>1.0</td>\n",
       "      <td>1.0</td>\n",
       "      <td>2.0</td>\n",
       "      <td>1.0</td>\n",
       "      <td>1.0</td>\n",
       "      <td>...</td>\n",
       "      <td>0.0</td>\n",
       "      <td>1.0</td>\n",
       "      <td>1.0</td>\n",
       "      <td>1.0</td>\n",
       "      <td>0.0</td>\n",
       "      <td>2.0</td>\n",
       "      <td>2.0</td>\n",
       "      <td>1.0</td>\n",
       "      <td>1.0</td>\n",
       "      <td>28.0</td>\n",
       "    </tr>\n",
       "    <tr>\n",
       "      <th>3</th>\n",
       "      <td>4.0</td>\n",
       "      <td>2.0</td>\n",
       "      <td>4.0</td>\n",
       "      <td>0.0</td>\n",
       "      <td>5.0</td>\n",
       "      <td>1.0</td>\n",
       "      <td>0.0</td>\n",
       "      <td>3.0</td>\n",
       "      <td>2.0</td>\n",
       "      <td>2.0</td>\n",
       "      <td>...</td>\n",
       "      <td>0.0</td>\n",
       "      <td>3.0</td>\n",
       "      <td>0.0</td>\n",
       "      <td>0.0</td>\n",
       "      <td>3.0</td>\n",
       "      <td>4.0</td>\n",
       "      <td>3.0</td>\n",
       "      <td>4.0</td>\n",
       "      <td>1.0</td>\n",
       "      <td>44.0</td>\n",
       "    </tr>\n",
       "    <tr>\n",
       "      <th>4</th>\n",
       "      <td>NaN</td>\n",
       "      <td>NaN</td>\n",
       "      <td>NaN</td>\n",
       "      <td>NaN</td>\n",
       "      <td>NaN</td>\n",
       "      <td>NaN</td>\n",
       "      <td>NaN</td>\n",
       "      <td>NaN</td>\n",
       "      <td>NaN</td>\n",
       "      <td>NaN</td>\n",
       "      <td>...</td>\n",
       "      <td>NaN</td>\n",
       "      <td>NaN</td>\n",
       "      <td>NaN</td>\n",
       "      <td>NaN</td>\n",
       "      <td>NaN</td>\n",
       "      <td>NaN</td>\n",
       "      <td>NaN</td>\n",
       "      <td>NaN</td>\n",
       "      <td>NaN</td>\n",
       "      <td>NaN</td>\n",
       "    </tr>\n",
       "  </tbody>\n",
       "</table>\n",
       "<p>5 rows × 21 columns</p>\n",
       "</div>"
      ],
      "text/plain": [
       "  PCIAT-PCIAT_01 PCIAT-PCIAT_02 PCIAT-PCIAT_03 PCIAT-PCIAT_04 PCIAT-PCIAT_05  \\\n",
       "0            5.0            4.0            4.0            0.0            4.0   \n",
       "1            0.0            0.0            0.0            0.0            0.0   \n",
       "2            5.0            2.0            2.0            1.0            2.0   \n",
       "3            4.0            2.0            4.0            0.0            5.0   \n",
       "4            NaN            NaN            NaN            NaN            NaN   \n",
       "\n",
       "  PCIAT-PCIAT_06 PCIAT-PCIAT_07 PCIAT-PCIAT_08 PCIAT-PCIAT_09 PCIAT-PCIAT_10  \\\n",
       "0            0.0            0.0            4.0            0.0            0.0   \n",
       "1            0.0            0.0            0.0            0.0            0.0   \n",
       "2            1.0            1.0            2.0            1.0            1.0   \n",
       "3            1.0            0.0            3.0            2.0            2.0   \n",
       "4            NaN            NaN            NaN            NaN            NaN   \n",
       "\n",
       "   ... PCIAT-PCIAT_12 PCIAT-PCIAT_13 PCIAT-PCIAT_14 PCIAT-PCIAT_15  \\\n",
       "0  ...            0.0            4.0            4.0            4.0   \n",
       "1  ...            0.0            0.0            0.0            0.0   \n",
       "2  ...            0.0            1.0            1.0            1.0   \n",
       "3  ...            0.0            3.0            0.0            0.0   \n",
       "4  ...            NaN            NaN            NaN            NaN   \n",
       "\n",
       "  PCIAT-PCIAT_16 PCIAT-PCIAT_17 PCIAT-PCIAT_18 PCIAT-PCIAT_19 PCIAT-PCIAT_20  \\\n",
       "0            4.0            4.0            4.0            2.0            4.0   \n",
       "1            0.0            0.0            0.0            0.0            0.0   \n",
       "2            0.0            2.0            2.0            1.0            1.0   \n",
       "3            3.0            4.0            3.0            4.0            1.0   \n",
       "4            NaN            NaN            NaN            NaN            NaN   \n",
       "\n",
       "  PCIAT-PCIAT_Total  \n",
       "0              55.0  \n",
       "1               0.0  \n",
       "2              28.0  \n",
       "3              44.0  \n",
       "4               NaN  \n",
       "\n",
       "[5 rows x 21 columns]"
      ]
     },
     "execution_count": 3,
     "metadata": {},
     "output_type": "execute_result"
    }
   ],
   "source": [
    "ana_features = [\"PCIAT-PCIAT_01\",\"PCIAT-PCIAT_02\",\"PCIAT-PCIAT_03\",\"PCIAT-PCIAT_04\",\"PCIAT-PCIAT_05\",\"PCIAT-PCIAT_06\",\n",
    "            \"PCIAT-PCIAT_07\",\"PCIAT-PCIAT_08\",\"PCIAT-PCIAT_09\",\"PCIAT-PCIAT_10\",\"PCIAT-PCIAT_11\",\"PCIAT-PCIAT_12\",\"PCIAT-PCIAT_13\",\"PCIAT-PCIAT_14\",\"PCIAT-PCIAT_15\",\n",
    "            \"PCIAT-PCIAT_16\",\"PCIAT-PCIAT_17\",\"PCIAT-PCIAT_18\",\"PCIAT-PCIAT_19\",\"PCIAT-PCIAT_20\",\"PCIAT-PCIAT_Total\"]\n",
    "\n",
    "train_df[ana_features].head()\n",
    "\n"
   ]
  },
  {
   "cell_type": "markdown",
   "id": "29f1a507-efb3-4158-a9ee-ceed6c4c5bba",
   "metadata": {},
   "source": [
    "###\n",
    "###"
   ]
  },
  {
   "cell_type": "markdown",
   "id": "9e80c17d-9aa8-4dff-99cf-561da808642d",
   "metadata": {},
   "source": [
    "## PCIAT-PCIAT_Total  \n"
   ]
  },
  {
   "cell_type": "code",
   "execution_count": 4,
   "id": "a4908494-b2ce-4e4c-885e-9dd37a969347",
   "metadata": {},
   "outputs": [
    {
     "data": {
      "text/plain": [
       "count    2736.000000\n",
       "mean       27.896199\n",
       "std        20.338853\n",
       "min         0.000000\n",
       "25%        12.000000\n",
       "50%        26.000000\n",
       "75%        41.000000\n",
       "max        93.000000\n",
       "Name: PCIAT-PCIAT_Total, dtype: float64"
      ]
     },
     "execution_count": 4,
     "metadata": {},
     "output_type": "execute_result"
    }
   ],
   "source": [
    "train_df['PCIAT-PCIAT_Total'].describe()"
   ]
  },
  {
   "cell_type": "code",
   "execution_count": 5,
   "id": "d3249b0e-07fc-4d54-95a3-959d70165173",
   "metadata": {},
   "outputs": [
    {
     "data": {
      "text/plain": [
       "<Axes: xlabel='PCIAT-PCIAT_Total', ylabel='Count'>"
      ]
     },
     "execution_count": 5,
     "metadata": {},
     "output_type": "execute_result"
    },
    {
     "data": {
      "image/png": "[encoded data removed]",
      "text/plain": [
       "<Figure size 640x480 with 1 Axes>"
      ]
     },
     "metadata": {},
     "output_type": "display_data"
    }
   ],
   "source": [
    "sns.histplot(data=train_df, x='PCIAT-PCIAT_Total', hue='sii', bins=20, kde=True, palette='coolwarm')"
   ]
  },
  {
   "cell_type": "markdown",
   "id": "947f49a0-5fb3-422b-a434-7086e9e58ca5",
   "metadata": {},
   "source": [
    "Type: __`int`__'  \n",
    "Range: __`min`__ = 0, __`max`__ = 93\n",
    "\n",
    "- 0-30 sii = 0\n",
    "- 30-50 sii = 1\n",
    "- 50-80 sii = 2\n",
    "- \\> 80 sii = 3"
   ]
  },
  {
   "cell_type": "code",
   "execution_count": 20,
   "id": "9731842d-1bc6-4dac-bb90-2b480edcae75",
   "metadata": {},
   "outputs": [
    {
     "data": {
      "text/plain": [
       "np.int64(1224)"
      ]
     },
     "execution_count": 20,
     "metadata": {},
     "output_type": "execute_result"
    }
   ],
   "source": [
    "train_df['PCIAT-PCIAT_Total'].isna().sum()"
   ]
  },
  {
   "cell_type": "code",
   "execution_count": 21,
   "id": "ec7877d4-9bfe-4d08-b467-b3c2c1d3162c",
   "metadata": {},
   "outputs": [
    {
     "data": {
      "text/plain": [
       "np.int64(1224)"
      ]
     },
     "execution_count": 21,
     "metadata": {},
     "output_type": "execute_result"
    }
   ],
   "source": [
    "train_df['sii'].isna().sum()"
   ]
  },
  {
   "cell_type": "markdown",
   "id": "7ba7bde6-7ff6-43df-a75f-33bd50e7e6b6",
   "metadata": {
    "jp-MarkdownHeadingCollapsed": true
   },
   "source": [
    "# Fill các dữ liệu trống trong PCIAT\n"
   ]
  },
  {
   "cell_type": "markdown",
   "id": "49210578-d63c-4c0a-8ae4-48dde662bddb",
   "metadata": {},
   "source": [
    "## Lấy các feature cần thiết"
   ]
  },
  {
   "cell_type": "code",
   "execution_count": 34,
   "id": "f200596d-259c-4501-8a2b-a5947a469984",
   "metadata": {},
   "outputs": [],
   "source": [
    "#Questions\n",
    "q_fts = [\"PCIAT-PCIAT_01\",\"PCIAT-PCIAT_02\",\"PCIAT-PCIAT_03\",\"PCIAT-PCIAT_04\",\"PCIAT-PCIAT_05\",\"PCIAT-PCIAT_06\",\n",
    "            \"PCIAT-PCIAT_07\",\"PCIAT-PCIAT_08\",\"PCIAT-PCIAT_09\",\"PCIAT-PCIAT_10\",\"PCIAT-PCIAT_11\",\"PCIAT-PCIAT_12\",\"PCIAT-PCIAT_13\",\"PCIAT-PCIAT_14\",\"PCIAT-PCIAT_15\",\n",
    "            \"PCIAT-PCIAT_16\",\"PCIAT-PCIAT_17\",\"PCIAT-PCIAT_18\",\"PCIAT-PCIAT_19\",\"PCIAT-PCIAT_20\"]\n",
    "\n",
    "q_train_df = train_df[q_fts]\n",
    "\n",
    "#Total Score\n",
    "ts_train_df = train_df['PCIAT-PCIAT_Total'].to_frame()\n",
    "ts_train_df['Recal'] = train_df[q_fts].apply(\n",
    "    lambda row: row.sum() if row.notnull().all() else None, axis=1\n",
    ")\n"
   ]
  },
  {
   "cell_type": "code",
   "execution_count": null,
   "id": "1ebec89d-92db-4e5b-b4ef-fe6432447ae2",
   "metadata": {},
   "outputs": [],
   "source": []
  },
  {
   "cell_type": "code",
   "execution_count": 35,
   "id": "7595a0a3-2eab-4eae-ae17-94d50978bdbd",
   "metadata": {},
   "outputs": [
    {
     "data": {
      "text/plain": [
       "np.int64(1289)"
      ]
     },
     "execution_count": 35,
     "metadata": {},
     "output_type": "execute_result"
    }
   ],
   "source": [
    "#Loại bỏ null\n",
    "ts_train_df['Recal'].isnull().sum()  "
   ]
  },
  {
   "cell_type": "code",
   "execution_count": 38,
   "id": "0161a1fd-43e4-4d22-a46b-7f25ffebb179",
   "metadata": {},
   "outputs": [
    {
     "data": {
      "text/plain": [
       "np.int64(65)"
      ]
     },
     "execution_count": 38,
     "metadata": {},
     "output_type": "execute_result"
    }
   ],
   "source": [
    "differences = ts_train_df[\n",
    "\n",
    "    ~((ts_train_df['Recal'] == ts_train_df['PCIAT-PCIAT_Total']) |\n",
    "\n",
    "      (ts_train_df['Recal'].isna() & ts_train_df['PCIAT-PCIAT_Total'].isna()))\n",
    "]\n",
    "\n",
    "(differences[['PCIAT-PCIAT_Total', 'Recal']])\n",
    "differences['Recal'].isnull().sum()"
   ]
  },
  {
   "cell_type": "code",
   "execution_count": null,
   "id": "4a893577-1e42-4a6e-b231-fa05cbd94f84",
   "metadata": {},
   "outputs": [],
   "source": [
    "\n"
   ]
  }
 ],
 "metadata": {
  "kernelspec": {
   "display_name": "Python 3 (ipykernel)",
   "language": "python",
   "name": "python3"
  },
  "language_info": {
   "codemirror_mode": {
    "name": "ipython",
    "version": 3
   },
   "file_extension": ".py",
   "mimetype": "text/x-python",
   "name": "python",
   "nbconvert_exporter": "python",
   "pygments_lexer": "ipython3",
   "version": "3.11.9"
  }
 },
 "nbformat": 4,
 "nbformat_minor": 5
}
