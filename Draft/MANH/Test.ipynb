{
 "cells": [
  {
   "cell_type": "code",
   "execution_count": 23,
   "id": "cad4f950-20a0-4b3b-b142-3c191d823a17",
   "metadata": {},
   "outputs": [
    {
     "data": {
      "text/html": [
       "<div>\n",
       "<style scoped>\n",
       "    .dataframe tbody tr th:only-of-type {\n",
       "        vertical-align: middle;\n",
       "    }\n",
       "\n",
       "    .dataframe tbody tr th {\n",
       "        vertical-align: top;\n",
       "    }\n",
       "\n",
       "    .dataframe thead th {\n",
       "        text-align: right;\n",
       "    }\n",
       "</style>\n",
       "<table border=\"1\" class=\"dataframe\">\n",
       "  <thead>\n",
       "    <tr style=\"text-align: right;\">\n",
       "      <th></th>\n",
       "      <th>id</th>\n",
       "      <th>Basic_Demos-Enroll_Season</th>\n",
       "      <th>Basic_Demos-Age</th>\n",
       "      <th>Basic_Demos-Sex</th>\n",
       "      <th>CGAS-Season</th>\n",
       "      <th>CGAS-CGAS_Score</th>\n",
       "      <th>Physical-Season</th>\n",
       "      <th>Physical-BMI</th>\n",
       "      <th>Physical-Height</th>\n",
       "      <th>Physical-Weight</th>\n",
       "      <th>...</th>\n",
       "      <th>PCIAT-PCIAT_18</th>\n",
       "      <th>PCIAT-PCIAT_19</th>\n",
       "      <th>PCIAT-PCIAT_20</th>\n",
       "      <th>PCIAT-PCIAT_Total</th>\n",
       "      <th>SDS-Season</th>\n",
       "      <th>SDS-SDS_Total_Raw</th>\n",
       "      <th>SDS-SDS_Total_T</th>\n",
       "      <th>PreInt_EduHx-Season</th>\n",
       "      <th>PreInt_EduHx-computerinternet_hoursday</th>\n",
       "      <th>sii</th>\n",
       "    </tr>\n",
       "  </thead>\n",
       "  <tbody>\n",
       "    <tr>\n",
       "      <th>0</th>\n",
       "      <td>00008ff9</td>\n",
       "      <td>Fall</td>\n",
       "      <td>5</td>\n",
       "      <td>0</td>\n",
       "      <td>Winter</td>\n",
       "      <td>51.0</td>\n",
       "      <td>Fall</td>\n",
       "      <td>16.877316</td>\n",
       "      <td>46.0</td>\n",
       "      <td>50.8</td>\n",
       "      <td>...</td>\n",
       "      <td>4.0</td>\n",
       "      <td>2.0</td>\n",
       "      <td>4.0</td>\n",
       "      <td>55.0</td>\n",
       "      <td>NaN</td>\n",
       "      <td>NaN</td>\n",
       "      <td>NaN</td>\n",
       "      <td>Fall</td>\n",
       "      <td>3.0</td>\n",
       "      <td>2.0</td>\n",
       "    </tr>\n",
       "    <tr>\n",
       "      <th>1</th>\n",
       "      <td>000fd460</td>\n",
       "      <td>Summer</td>\n",
       "      <td>9</td>\n",
       "      <td>0</td>\n",
       "      <td>NaN</td>\n",
       "      <td>NaN</td>\n",
       "      <td>Fall</td>\n",
       "      <td>14.035590</td>\n",
       "      <td>48.0</td>\n",
       "      <td>46.0</td>\n",
       "      <td>...</td>\n",
       "      <td>0.0</td>\n",
       "      <td>0.0</td>\n",
       "      <td>0.0</td>\n",
       "      <td>0.0</td>\n",
       "      <td>Fall</td>\n",
       "      <td>46.0</td>\n",
       "      <td>64.0</td>\n",
       "      <td>Summer</td>\n",
       "      <td>0.0</td>\n",
       "      <td>0.0</td>\n",
       "    </tr>\n",
       "    <tr>\n",
       "      <th>2</th>\n",
       "      <td>00105258</td>\n",
       "      <td>Summer</td>\n",
       "      <td>10</td>\n",
       "      <td>1</td>\n",
       "      <td>Fall</td>\n",
       "      <td>71.0</td>\n",
       "      <td>Fall</td>\n",
       "      <td>16.648696</td>\n",
       "      <td>56.5</td>\n",
       "      <td>75.6</td>\n",
       "      <td>...</td>\n",
       "      <td>2.0</td>\n",
       "      <td>1.0</td>\n",
       "      <td>1.0</td>\n",
       "      <td>28.0</td>\n",
       "      <td>Fall</td>\n",
       "      <td>38.0</td>\n",
       "      <td>54.0</td>\n",
       "      <td>Summer</td>\n",
       "      <td>2.0</td>\n",
       "      <td>0.0</td>\n",
       "    </tr>\n",
       "    <tr>\n",
       "      <th>3</th>\n",
       "      <td>00115b9f</td>\n",
       "      <td>Winter</td>\n",
       "      <td>9</td>\n",
       "      <td>0</td>\n",
       "      <td>Fall</td>\n",
       "      <td>71.0</td>\n",
       "      <td>Summer</td>\n",
       "      <td>18.292347</td>\n",
       "      <td>56.0</td>\n",
       "      <td>81.6</td>\n",
       "      <td>...</td>\n",
       "      <td>3.0</td>\n",
       "      <td>4.0</td>\n",
       "      <td>1.0</td>\n",
       "      <td>44.0</td>\n",
       "      <td>Summer</td>\n",
       "      <td>31.0</td>\n",
       "      <td>45.0</td>\n",
       "      <td>Winter</td>\n",
       "      <td>0.0</td>\n",
       "      <td>1.0</td>\n",
       "    </tr>\n",
       "    <tr>\n",
       "      <th>4</th>\n",
       "      <td>0016bb22</td>\n",
       "      <td>Spring</td>\n",
       "      <td>18</td>\n",
       "      <td>1</td>\n",
       "      <td>Summer</td>\n",
       "      <td>NaN</td>\n",
       "      <td>NaN</td>\n",
       "      <td>NaN</td>\n",
       "      <td>NaN</td>\n",
       "      <td>NaN</td>\n",
       "      <td>...</td>\n",
       "      <td>NaN</td>\n",
       "      <td>NaN</td>\n",
       "      <td>NaN</td>\n",
       "      <td>NaN</td>\n",
       "      <td>NaN</td>\n",
       "      <td>NaN</td>\n",
       "      <td>NaN</td>\n",
       "      <td>NaN</td>\n",
       "      <td>NaN</td>\n",
       "      <td>NaN</td>\n",
       "    </tr>\n",
       "  </tbody>\n",
       "</table>\n",
       "<p>5 rows × 82 columns</p>\n",
       "</div>"
      ],
      "text/plain": [
       "         id Basic_Demos-Enroll_Season  Basic_Demos-Age  Basic_Demos-Sex  \\\n",
       "0  00008ff9                      Fall                5                0   \n",
       "1  000fd460                    Summer                9                0   \n",
       "2  00105258                    Summer               10                1   \n",
       "3  00115b9f                    Winter                9                0   \n",
       "4  0016bb22                    Spring               18                1   \n",
       "\n",
       "  CGAS-Season  CGAS-CGAS_Score Physical-Season  Physical-BMI  Physical-Height  \\\n",
       "0      Winter             51.0            Fall     16.877316             46.0   \n",
       "1         NaN              NaN            Fall     14.035590             48.0   \n",
       "2        Fall             71.0            Fall     16.648696             56.5   \n",
       "3        Fall             71.0          Summer     18.292347             56.0   \n",
       "4      Summer              NaN             NaN           NaN              NaN   \n",
       "\n",
       "   Physical-Weight  ...  PCIAT-PCIAT_18  PCIAT-PCIAT_19  PCIAT-PCIAT_20  \\\n",
       "0             50.8  ...             4.0             2.0             4.0   \n",
       "1             46.0  ...             0.0             0.0             0.0   \n",
       "2             75.6  ...             2.0             1.0             1.0   \n",
       "3             81.6  ...             3.0             4.0             1.0   \n",
       "4              NaN  ...             NaN             NaN             NaN   \n",
       "\n",
       "   PCIAT-PCIAT_Total SDS-Season  SDS-SDS_Total_Raw  SDS-SDS_Total_T  \\\n",
       "0               55.0        NaN                NaN              NaN   \n",
       "1                0.0       Fall               46.0             64.0   \n",
       "2               28.0       Fall               38.0             54.0   \n",
       "3               44.0     Summer               31.0             45.0   \n",
       "4                NaN        NaN                NaN              NaN   \n",
       "\n",
       "   PreInt_EduHx-Season PreInt_EduHx-computerinternet_hoursday  sii  \n",
       "0                 Fall                                    3.0  2.0  \n",
       "1               Summer                                    0.0  0.0  \n",
       "2               Summer                                    2.0  0.0  \n",
       "3               Winter                                    0.0  1.0  \n",
       "4                  NaN                                    NaN  NaN  \n",
       "\n",
       "[5 rows x 82 columns]"
      ]
     },
     "execution_count": 23,
     "metadata": {},
     "output_type": "execute_result"
    }
   ],
   "source": [
    "#import lib\n",
    "import pandas as pd\n",
    "import numpy as np\n",
    "import seaborn as sns\n",
    "import matplotlib.pyplot as plt\n",
    "\n",
    "train_df = pd.read_csv(\"data/train.csv\")\n",
    "test_df = pd.read_csv(\"data/test.csv\")\n",
    "\n",
    "train_df.head()"
   ]
  },
  {
   "cell_type": "markdown",
   "id": "efa82c31-3e45-497b-b106-c3734546793c",
   "metadata": {},
   "source": [
    "## Loại bỏ các cột có sii trống"
   ]
  },
  {
   "cell_type": "code",
   "execution_count": 2,
   "id": "2cc51dfc-6a33-4cb8-b44c-434759683432",
   "metadata": {},
   "outputs": [],
   "source": [
    "train_df = train_df.dropna(subset='sii')\n",
    "#train_df\n",
    "#2736 participants"
   ]
  },
  {
   "cell_type": "markdown",
   "id": "00f94b54-8952-4e21-99e1-90998f925849",
   "metadata": {},
   "source": [
    "## Age"
   ]
  },
  {
   "cell_type": "code",
   "execution_count": 24,
   "id": "fe573823-dedb-4ea2-859b-c2cefa93a5e6",
   "metadata": {},
   "outputs": [
    {
     "data": {
      "text/plain": [
       "0            child\n",
       "1            child\n",
       "2            child\n",
       "3            child\n",
       "4       adolescent\n",
       "           ...    \n",
       "3955    adolescent\n",
       "3956         child\n",
       "3957         child\n",
       "3958    adolescent\n",
       "3959         child\n",
       "Name: age_cate, Length: 3960, dtype: category\n",
       "Categories (2, object): ['adolescent', 'child']"
      ]
     },
     "execution_count": 24,
     "metadata": {},
     "output_type": "execute_result"
    }
   ],
   "source": [
    "## Phan tich age\n",
    "# Phân loại độ tuổi\n",
    "train_df['age_cate'] = train_df['Basic_Demos-Age'].apply(\n",
    "    lambda x: 'child' if x < 13 else \n",
    "              'adolescent'\n",
    ")\n",
    "\n",
    "train_df['age_cate'] = train_df['age_cate'].astype('category')\n",
    "train_df['age_cate']"
   ]
  },
  {
   "cell_type": "code",
   "execution_count": 4,
   "id": "4f1b28f8-cbae-4fa9-b968-ca43557f1995",
   "metadata": {},
   "outputs": [
    {
     "data": {
      "text/plain": [
       "<Axes: xlabel='age_cate', ylabel='count'>"
      ]
     },
     "execution_count": 4,
     "metadata": {},
     "output_type": "execute_result"
    },
    {
     "data": {
      "image/png": "[encoded data removed]",
      "text/plain": [
       "<Figure size 640x480 with 1 Axes>"
      ]
     },
     "metadata": {},
     "output_type": "display_data"
    }
   ],
   "source": [
    "sns.countplot(data = train_df, x = 'age_cate', hue = 'sii', palette = 'flare')"
   ]
  },
  {
   "cell_type": "code",
   "execution_count": 5,
   "id": "0a2f5e82-a0e6-404d-932e-8181aa66704c",
   "metadata": {},
   "outputs": [
    {
     "data": {
      "text/plain": [
       "count    1813.000000\n",
       "mean        6.954484\n",
       "std        97.022087\n",
       "min        -7.789610\n",
       "25%         2.976800\n",
       "50%         3.937490\n",
       "75%         5.462500\n",
       "max      4115.360000\n",
       "Name: BIA-BIA_BMC, dtype: float64"
      ]
     },
     "execution_count": 5,
     "metadata": {},
     "output_type": "execute_result"
    }
   ],
   "source": [
    "train_df['BIA-BIA_BMC'].describe()"
   ]
  },
  {
   "cell_type": "markdown",
   "id": "3a193939-6d7c-4ae9-9216-dc05fc5d6d5a",
   "metadata": {},
   "source": [
    "## Sex"
   ]
  },
  {
   "cell_type": "code",
   "execution_count": 6,
   "id": "d26a9ad4-3652-437a-a334-9b07f57b6bea",
   "metadata": {},
   "outputs": [
    {
     "data": {
      "text/plain": [
       "<Axes: xlabel='Basic_Demos-Sex', ylabel='count'>"
      ]
     },
     "execution_count": 6,
     "metadata": {},
     "output_type": "execute_result"
    },
    {
     "data": {
      "image/png": "[encoded data removed]",
      "text/plain": [
       "<Figure size 640x480 with 1 Axes>"
      ]
     },
     "metadata": {},
     "output_type": "display_data"
    }
   ],
   "source": [
    "train_df['Basic_Demos-Sex'].isnull().sum()\n",
    "train_df['Basic_Demos-Sex'] = train_df['Basic_Demos-Sex'].astype('category')\n",
    "\n",
    "sns.countplot(data = train_df, x = 'Basic_Demos-Sex', hue = 'sii', palette = 'flare')"
   ]
  },
  {
   "cell_type": "markdown",
   "id": "5121cb27-f16c-4459-bccd-892dab2f453a",
   "metadata": {},
   "source": [
    "## Hours of internet use"
   ]
  },
  {
   "cell_type": "code",
   "execution_count": 7,
   "id": "70f3b24b-4456-4789-8478-184ebc40fa85",
   "metadata": {},
   "outputs": [
    {
     "data": {
      "text/plain": [
       "<Axes: xlabel='PreInt_EduHx-computerinternet_hoursday', ylabel='count'>"
      ]
     },
     "execution_count": 7,
     "metadata": {},
     "output_type": "execute_result"
    },
    {
     "data": {
      "image/png": "[encoded data removed]",
      "text/plain": [
       "<Figure size 640x480 with 1 Axes>"
      ]
     },
     "metadata": {},
     "output_type": "display_data"
    }
   ],
   "source": [
    "train_df['PreInt_EduHx-computerinternet_hoursday'].isnull().sum()\n",
    "train_df['PreInt_EduHx-computerinternet_hoursday'] = train_df['PreInt_EduHx-computerinternet_hoursday'].astype('category')\n",
    "\n",
    "sns.countplot(data=train_df, x='PreInt_EduHx-computerinternet_hoursday', hue='sii', palette='flare')"
   ]
  },
  {
   "cell_type": "code",
   "execution_count": 15,
   "id": "8b4376f9-a914-4d3d-bede-561428c6d6dd",
   "metadata": {},
   "outputs": [
    {
     "name": "stdout",
     "output_type": "stream",
     "text": [
      "PCIAT-PCIAT_18       0.221971\n",
      "PCIAT-PCIAT_Total    0.362436\n",
      "Name: hoursday_mentalscore, dtype: float64\n"
     ]
    }
   ],
   "source": [
    "#PCIAT_18\n",
    "p18 = train_df[['age_cate', 'PreInt_EduHx-computerinternet_hoursday', 'CGAS-CGAS_Score', 'PCIAT-PCIAT_18', 'PCIAT-PCIAT_Total']]\n",
    "\n",
    "p18 = p18.dropna(subset='CGAS-CGAS_Score')\n",
    "p18['PreInt_EduHx-computerinternet_hoursday'] = p18['PreInt_EduHx-computerinternet_hoursday'].fillna(0).astype('int64')\n",
    "p18['hoursday_mentalscore'] = p18['PreInt_EduHx-computerinternet_hoursday'] * p18['CGAS-CGAS_Score']\n",
    "\n",
    "\n",
    "corr= p18[['hoursday_mentalscore', 'PCIAT-PCIAT_18', 'PCIAT-PCIAT_Total']].corr().loc['hoursday_mentalscore', ['PCIAT-PCIAT_18', 'PCIAT-PCIAT_Total']]\n",
    "print(corr)\n",
    "#p18['hours_metal_score'] = "
   ]
  },
  {
   "cell_type": "code",
   "execution_count": 35,
   "id": "14eb4f3a-3631-4cf4-9423-0238eb918e77",
   "metadata": {},
   "outputs": [
    {
     "data": {
      "text/plain": [
       "dtype('float64')"
      ]
     },
     "execution_count": 35,
     "metadata": {},
     "output_type": "execute_result"
    }
   ],
   "source": [
    "# Lọc dữ liệu cho từng nhóm\n",
    "child_df = train_df[train_df['age_cate'] == 'child']\n",
    "aldose_df = train_df[train_df['age_cate'] == 'adolescent']\n",
    "\n",
    "train_df['CGAS-CGAS_Score'].dtypes"
   ]
  },
  {
   "cell_type": "code",
   "execution_count": 37,
   "id": "9d59146b-60b3-45e5-86ca-9d44ac64e72b",
   "metadata": {},
   "outputs": [
    {
     "data": {
      "text/plain": [
       "count    574.000000\n",
       "mean      64.108014\n",
       "std       12.316741\n",
       "min       30.000000\n",
       "25%       55.000000\n",
       "50%       65.000000\n",
       "75%       72.000000\n",
       "max       95.000000\n",
       "Name: CGAS-CGAS_Score, dtype: float64"
      ]
     },
     "execution_count": 37,
     "metadata": {},
     "output_type": "execute_result"
    }
   ],
   "source": [
    "aldose_df['CGAS-CGAS_Score'].describe()"
   ]
  },
  {
   "cell_type": "code",
   "execution_count": 38,
   "id": "bf51300a-b481-4283-9e4e-b44007185f97",
   "metadata": {},
   "outputs": [
    {
     "data": {
      "text/plain": [
       "count    1847.000000\n",
       "mean       65.873308\n",
       "std        24.628049\n",
       "min        25.000000\n",
       "25%        60.000000\n",
       "50%        65.000000\n",
       "75%        75.000000\n",
       "max       999.000000\n",
       "Name: CGAS-CGAS_Score, dtype: float64"
      ]
     },
     "execution_count": 38,
     "metadata": {},
     "output_type": "execute_result"
    }
   ],
   "source": [
    "child_df['CGAS-CGAS_Score'].describe()"
   ]
  },
  {
   "cell_type": "markdown",
   "id": "8d478119-bc71-4bf1-bb04-982fa68f886c",
   "metadata": {},
   "source": [
    "## Đánh giá CGAS-CGAS_Score với Child\n"
   ]
  },
  {
   "cell_type": "code",
   "execution_count": 39,
   "id": "75762b54-57c1-4e13-8cd7-93c3f46e1852",
   "metadata": {},
   "outputs": [
    {
     "data": {
      "text/plain": [
       "count    1847.000000\n",
       "mean       65.873308\n",
       "std        24.628049\n",
       "min        25.000000\n",
       "25%        60.000000\n",
       "50%        65.000000\n",
       "75%        75.000000\n",
       "max       999.000000\n",
       "Name: CGAS-CGAS_Score, dtype: float64"
      ]
     },
     "execution_count": 39,
     "metadata": {},
     "output_type": "execute_result"
    }
   ],
   "source": [
    "child_df['CGAS-CGAS_Score'].isnull().sum()\n",
    "child_df['CGAS-CGAS_Score'].describe()"
   ]
  },
  {
   "cell_type": "code",
   "execution_count": 40,
   "id": "bf23aecb-4c2a-4afc-83ec-35ee5c5c1170",
   "metadata": {},
   "outputs": [
    {
     "data": {
      "text/plain": [
       "<Axes: xlabel='PreInt_EduHx-computerinternet_hoursday', ylabel='CGAS-CGAS_Score'>"
      ]
     },
     "execution_count": 40,
     "metadata": {},
     "output_type": "execute_result"
    },
    {
     "data": {
      "image/png": "[encoded data removed]",
      "text/plain": [
       "<Figure size 640x480 with 1 Axes>"
      ]
     },
     "metadata": {},
     "output_type": "display_data"
    }
   ],
   "source": [
    "sns.barplot(data = child_df, x = 'PreInt_EduHx-computerinternet_hoursday', y = 'CGAS-CGAS_Score', hue = 'sii', palette = 'flare')"
   ]
  },
  {
   "cell_type": "code",
   "execution_count": 41,
   "id": "55715daf-2565-4368-a6c5-4811e1834f43",
   "metadata": {},
   "outputs": [
    {
     "data": {
      "text/html": [
       "<div>\n",
       "<style scoped>\n",
       "    .dataframe tbody tr th:only-of-type {\n",
       "        vertical-align: middle;\n",
       "    }\n",
       "\n",
       "    .dataframe tbody tr th {\n",
       "        vertical-align: top;\n",
       "    }\n",
       "\n",
       "    .dataframe thead th {\n",
       "        text-align: right;\n",
       "    }\n",
       "</style>\n",
       "<table border=\"1\" class=\"dataframe\">\n",
       "  <thead>\n",
       "    <tr style=\"text-align: right;\">\n",
       "      <th></th>\n",
       "      <th>id</th>\n",
       "      <th>Basic_Demos-Enroll_Season</th>\n",
       "      <th>Basic_Demos-Age</th>\n",
       "      <th>Basic_Demos-Sex</th>\n",
       "      <th>CGAS-Season</th>\n",
       "      <th>CGAS-CGAS_Score</th>\n",
       "      <th>Physical-Season</th>\n",
       "      <th>Physical-BMI</th>\n",
       "      <th>Physical-Height</th>\n",
       "      <th>Physical-Weight</th>\n",
       "      <th>...</th>\n",
       "      <th>PCIAT-PCIAT_19</th>\n",
       "      <th>PCIAT-PCIAT_20</th>\n",
       "      <th>PCIAT-PCIAT_Total</th>\n",
       "      <th>SDS-Season</th>\n",
       "      <th>SDS-SDS_Total_Raw</th>\n",
       "      <th>SDS-SDS_Total_T</th>\n",
       "      <th>PreInt_EduHx-Season</th>\n",
       "      <th>PreInt_EduHx-computerinternet_hoursday</th>\n",
       "      <th>sii</th>\n",
       "      <th>age_cate</th>\n",
       "    </tr>\n",
       "  </thead>\n",
       "  <tbody>\n",
       "    <tr>\n",
       "      <th>405</th>\n",
       "      <td>1824417f</td>\n",
       "      <td>Summer</td>\n",
       "      <td>11</td>\n",
       "      <td>0</td>\n",
       "      <td>Spring</td>\n",
       "      <td>60.0</td>\n",
       "      <td>Winter</td>\n",
       "      <td>15.166845</td>\n",
       "      <td>61.5</td>\n",
       "      <td>81.6</td>\n",
       "      <td>...</td>\n",
       "      <td>4.0</td>\n",
       "      <td>4.0</td>\n",
       "      <td>80.0</td>\n",
       "      <td>Spring</td>\n",
       "      <td>60.0</td>\n",
       "      <td>82.0</td>\n",
       "      <td>Summer</td>\n",
       "      <td>3.0</td>\n",
       "      <td>3.0</td>\n",
       "      <td>child</td>\n",
       "    </tr>\n",
       "    <tr>\n",
       "      <th>868</th>\n",
       "      <td>343460ab</td>\n",
       "      <td>Winter</td>\n",
       "      <td>12</td>\n",
       "      <td>0</td>\n",
       "      <td>Spring</td>\n",
       "      <td>55.0</td>\n",
       "      <td>Spring</td>\n",
       "      <td>30.630714</td>\n",
       "      <td>70.0</td>\n",
       "      <td>213.5</td>\n",
       "      <td>...</td>\n",
       "      <td>4.0</td>\n",
       "      <td>5.0</td>\n",
       "      <td>87.0</td>\n",
       "      <td>Spring</td>\n",
       "      <td>56.0</td>\n",
       "      <td>77.0</td>\n",
       "      <td>Winter</td>\n",
       "      <td>3.0</td>\n",
       "      <td>3.0</td>\n",
       "      <td>child</td>\n",
       "    </tr>\n",
       "    <tr>\n",
       "      <th>2036</th>\n",
       "      <td>8148c785</td>\n",
       "      <td>Summer</td>\n",
       "      <td>12</td>\n",
       "      <td>0</td>\n",
       "      <td>Spring</td>\n",
       "      <td>80.0</td>\n",
       "      <td>Fall</td>\n",
       "      <td>29.118343</td>\n",
       "      <td>65.0</td>\n",
       "      <td>175.0</td>\n",
       "      <td>...</td>\n",
       "      <td>3.0</td>\n",
       "      <td>2.0</td>\n",
       "      <td>83.0</td>\n",
       "      <td>Fall</td>\n",
       "      <td>61.0</td>\n",
       "      <td>84.0</td>\n",
       "      <td>Summer</td>\n",
       "      <td>2.0</td>\n",
       "      <td>3.0</td>\n",
       "      <td>child</td>\n",
       "    </tr>\n",
       "    <tr>\n",
       "      <th>2541</th>\n",
       "      <td>a08ebf6e</td>\n",
       "      <td>Winter</td>\n",
       "      <td>11</td>\n",
       "      <td>0</td>\n",
       "      <td>Spring</td>\n",
       "      <td>55.0</td>\n",
       "      <td>Spring</td>\n",
       "      <td>18.234286</td>\n",
       "      <td>56.5</td>\n",
       "      <td>82.8</td>\n",
       "      <td>...</td>\n",
       "      <td>5.0</td>\n",
       "      <td>5.0</td>\n",
       "      <td>88.0</td>\n",
       "      <td>Spring</td>\n",
       "      <td>47.0</td>\n",
       "      <td>66.0</td>\n",
       "      <td>Winter</td>\n",
       "      <td>2.0</td>\n",
       "      <td>3.0</td>\n",
       "      <td>child</td>\n",
       "    </tr>\n",
       "    <tr>\n",
       "      <th>2860</th>\n",
       "      <td>b7c3834f</td>\n",
       "      <td>Spring</td>\n",
       "      <td>12</td>\n",
       "      <td>1</td>\n",
       "      <td>Winter</td>\n",
       "      <td>35.0</td>\n",
       "      <td>Summer</td>\n",
       "      <td>28.301371</td>\n",
       "      <td>61.0</td>\n",
       "      <td>149.8</td>\n",
       "      <td>...</td>\n",
       "      <td>1.0</td>\n",
       "      <td>4.0</td>\n",
       "      <td>84.0</td>\n",
       "      <td>Summer</td>\n",
       "      <td>49.0</td>\n",
       "      <td>68.0</td>\n",
       "      <td>Spring</td>\n",
       "      <td>3.0</td>\n",
       "      <td>3.0</td>\n",
       "      <td>child</td>\n",
       "    </tr>\n",
       "    <tr>\n",
       "      <th>3030</th>\n",
       "      <td>c308b134</td>\n",
       "      <td>Fall</td>\n",
       "      <td>12</td>\n",
       "      <td>0</td>\n",
       "      <td>NaN</td>\n",
       "      <td>NaN</td>\n",
       "      <td>Winter</td>\n",
       "      <td>23.025951</td>\n",
       "      <td>63.0</td>\n",
       "      <td>130.0</td>\n",
       "      <td>...</td>\n",
       "      <td>5.0</td>\n",
       "      <td>4.0</td>\n",
       "      <td>81.0</td>\n",
       "      <td>Winter</td>\n",
       "      <td>44.0</td>\n",
       "      <td>62.0</td>\n",
       "      <td>Fall</td>\n",
       "      <td>0.0</td>\n",
       "      <td>3.0</td>\n",
       "      <td>child</td>\n",
       "    </tr>\n",
       "  </tbody>\n",
       "</table>\n",
       "<p>6 rows × 83 columns</p>\n",
       "</div>"
      ],
      "text/plain": [
       "            id Basic_Demos-Enroll_Season  Basic_Demos-Age  Basic_Demos-Sex  \\\n",
       "405   1824417f                    Summer               11                0   \n",
       "868   343460ab                    Winter               12                0   \n",
       "2036  8148c785                    Summer               12                0   \n",
       "2541  a08ebf6e                    Winter               11                0   \n",
       "2860  b7c3834f                    Spring               12                1   \n",
       "3030  c308b134                      Fall               12                0   \n",
       "\n",
       "     CGAS-Season  CGAS-CGAS_Score Physical-Season  Physical-BMI  \\\n",
       "405       Spring             60.0          Winter     15.166845   \n",
       "868       Spring             55.0          Spring     30.630714   \n",
       "2036      Spring             80.0            Fall     29.118343   \n",
       "2541      Spring             55.0          Spring     18.234286   \n",
       "2860      Winter             35.0          Summer     28.301371   \n",
       "3030         NaN              NaN          Winter     23.025951   \n",
       "\n",
       "      Physical-Height  Physical-Weight  ...  PCIAT-PCIAT_19  PCIAT-PCIAT_20  \\\n",
       "405              61.5             81.6  ...             4.0             4.0   \n",
       "868              70.0            213.5  ...             4.0             5.0   \n",
       "2036             65.0            175.0  ...             3.0             2.0   \n",
       "2541             56.5             82.8  ...             5.0             5.0   \n",
       "2860             61.0            149.8  ...             1.0             4.0   \n",
       "3030             63.0            130.0  ...             5.0             4.0   \n",
       "\n",
       "      PCIAT-PCIAT_Total  SDS-Season SDS-SDS_Total_Raw  SDS-SDS_Total_T  \\\n",
       "405                80.0      Spring              60.0             82.0   \n",
       "868                87.0      Spring              56.0             77.0   \n",
       "2036               83.0        Fall              61.0             84.0   \n",
       "2541               88.0      Spring              47.0             66.0   \n",
       "2860               84.0      Summer              49.0             68.0   \n",
       "3030               81.0      Winter              44.0             62.0   \n",
       "\n",
       "      PreInt_EduHx-Season  PreInt_EduHx-computerinternet_hoursday  sii  \\\n",
       "405                Summer                                     3.0  3.0   \n",
       "868                Winter                                     3.0  3.0   \n",
       "2036               Summer                                     2.0  3.0   \n",
       "2541               Winter                                     2.0  3.0   \n",
       "2860               Spring                                     3.0  3.0   \n",
       "3030                 Fall                                     0.0  3.0   \n",
       "\n",
       "      age_cate  \n",
       "405      child  \n",
       "868      child  \n",
       "2036     child  \n",
       "2541     child  \n",
       "2860     child  \n",
       "3030     child  \n",
       "\n",
       "[6 rows x 83 columns]"
      ]
     },
     "execution_count": 41,
     "metadata": {},
     "output_type": "execute_result"
    }
   ],
   "source": [
    "child_df[child_df['sii'] == 3]"
   ]
  },
  {
   "cell_type": "code",
   "execution_count": 42,
   "id": "8640b563-f4fd-4384-8068-6b371fdab897",
   "metadata": {},
   "outputs": [
    {
     "data": {
      "text/plain": [
       "<Axes: xlabel='PreInt_EduHx-computerinternet_hoursday', ylabel='CGAS-CGAS_Score'>"
      ]
     },
     "execution_count": 42,
     "metadata": {},
     "output_type": "execute_result"
    },
    {
     "data": {
      "image/png": "[encoded data removed]",
      "text/plain": [
       "<Figure size 640x480 with 1 Axes>"
      ]
     },
     "metadata": {},
     "output_type": "display_data"
    }
   ],
   "source": [
    "sns.barplot(data = aldose_df, x = 'PreInt_EduHx-computerinternet_hoursday', y = 'CGAS-CGAS_Score', hue = 'sii', palette = 'flare')"
   ]
  },
  {
   "cell_type": "code",
   "execution_count": null,
   "id": "face603c-ca1a-4e2d-824c-cd272f6d1f51",
   "metadata": {},
   "outputs": [],
   "source": [
    "aldose_df[aldose_df['sii'] == 3]"
   ]
  },
  {
   "cell_type": "code",
   "execution_count": 44,
   "id": "1fd7cd7f-2003-4845-ad95-9073a01a679f",
   "metadata": {},
   "outputs": [
    {
     "data": {
      "text/plain": [
       "<Axes: xlabel='PreInt_EduHx-computerinternet_hoursday', ylabel='CGAS-CGAS_Score'>"
      ]
     },
     "execution_count": 44,
     "metadata": {},
     "output_type": "execute_result"
    },
    {
     "data": {
      "image/png": "[encoded data removed]",
      "text/plain": [
       "<Figure size 640x480 with 1 Axes>"
      ]
     },
     "metadata": {},
     "output_type": "display_data"
    }
   ],
   "source": [
    "sns.barplot(data = train_df, x = 'PreInt_EduHx-computerinternet_hoursday', y = 'CGAS-CGAS_Score', hue = 'sii', palette = 'flare')"
   ]
  },
  {
   "cell_type": "markdown",
   "id": "236416ca-d193-4e3a-9c53-da64c50cb815",
   "metadata": {},
   "source": [
    "## Phân tích Internet_Hours-Age\n",
    "\n"
   ]
  },
  {
   "cell_type": "code",
   "execution_count": null,
   "id": "2f580229-f59d-4cf5-bbe1-f75e433e961d",
   "metadata": {},
   "outputs": [],
   "source": [
    "train_df['Internet_Hours_Age'] = train_df['PreInt_EduHx-computerinternet_hoursday'] * train_df['Basic_Demos-Age']\n",
    "\n",
    "corr= train_df[['Internet_Hours_Age', 'PCIAT-PCIAT_Total', 'sii']].corr().loc['Internet_Hours_Age', ['PCIAT-PCIAT_Total', 'sii']]\n",
    "print(corr)"
   ]
  },
  {
   "cell_type": "code",
   "execution_count": null,
   "id": "30ac2306-f709-43c3-bdd7-b5bce92a13be",
   "metadata": {},
   "outputs": [],
   "source": []
  }
 ],
 "metadata": {
  "kernelspec": {
   "display_name": "Python 3 (ipykernel)",
   "language": "python",
   "name": "python3"
  },
  "language_info": {
   "codemirror_mode": {
    "name": "ipython",
    "version": 3
   },
   "file_extension": ".py",
   "mimetype": "text/x-python",
   "name": "python",
   "nbconvert_exporter": "python",
   "pygments_lexer": "ipython3",
   "version": "3.11.9"
  }
 },
 "nbformat": 4,
 "nbformat_minor": 5
}
