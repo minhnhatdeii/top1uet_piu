{
 "cells": [
  {
   "cell_type": "markdown",
   "id": "95e7ad4c-21fd-49f5-838d-fdc5a740bc88",
   "metadata": {},
   "source": [
    "# Project : Child Mind Institute - Problematic Internet Use"
   ]
  },
  {
   "cell_type": "code",
   "execution_count": 1,
   "id": "69b57511-a10a-4fa9-8fcc-bba264120843",
   "metadata": {},
   "outputs": [],
   "source": [
    "    import numpy as np\n",
    "    import pandas as pd\n",
    "    import matplotlib.pyplot as plt\n",
    "    import seaborn as sns"
   ]
  },
  {
   "cell_type": "code",
   "execution_count": 2,
   "id": "b3a6ddd8-b67f-435f-8515-3c2c587f07ce",
   "metadata": {},
   "outputs": [],
   "source": [
    "train_df = pd.read_csv(\"data/train.csv\")\n",
    "test_df = pd.read_csv(\"data/test.csv\")"
   ]
  },
  {
   "cell_type": "code",
   "execution_count": 3,
   "id": "f441a8ea-fb1f-4542-ac0a-b4d7575aaa7d",
   "metadata": {},
   "outputs": [],
   "source": [
    "# feature category\n",
    "features = [\"Basic_Demos-Sex\",\"FGC-FGC_CU_Zone\",\"FGC-FGC_GSND_Zone\",\"FGC-FGC_GSD_Zone\",\"FGC-FGC_PU_Zone\",\"FGC-FGC_SRL_Zone\",\"FGC-FGC_SRR_Zone\",\"FGC-FGC_TL_Zone\",\n",
    "            \"BIA-BIA_Activity_Level_num\",\"BIA-BIA_Frame_num\",\"PCIAT-PCIAT_01\",\"PCIAT-PCIAT_02\",\"PCIAT-PCIAT_03\",\"PCIAT-PCIAT_04\",\"PCIAT-PCIAT_05\",\"PCIAT-PCIAT_06\",\n",
    "            \"PCIAT-PCIAT_07\",\"PCIAT-PCIAT_08\",\"PCIAT-PCIAT_09\",\"PCIAT-PCIAT_10\",\"PCIAT-PCIAT_11\",\"PCIAT-PCIAT_12\",\"PCIAT-PCIAT_13\",\"PCIAT-PCIAT_14\",\"PCIAT-PCIAT_15\",\n",
    "            \"PCIAT-PCIAT_16\",\"PCIAT-PCIAT_17\",\"PCIAT-PCIAT_18\",\"PCIAT-PCIAT_19\",\"PCIAT-PCIAT_20\",\"PreInt_EduHx-computerinternet_hoursday\"]\n",
    "def convert_cate(df, features):\n",
    "    for i in features:\n",
    "        if i in df.columns:\n",
    "            df[i] = df[i].astype(\"category\")\n",
    "convert_cate(test_df, features)\n",
    "convert_cate(train_df, features) "
   ]
  },
  {
   "cell_type": "code",
   "execution_count": 4,
   "id": "c4b22642-3e08-43ef-96fa-ccf47c6fc772",
   "metadata": {},
   "outputs": [],
   "source": [
    "# feature float64\n",
    "features = [\"Basic_Demos-Age\",\"Physical-BMI\",\"Physical-Height\",\"Physical-Weight\",\"FGC-FGC_GSND\",\"FGC-FGC_GSD\",\"FGC-FGC_SRL\",\"FGC-FGC_SRR\",\"BIA-BIA_BMC\",\n",
    "           \"BIA-BIA_BMI\",\"BIA-BIA_BMR\",\"BIA-BIA_DEE\",\"BIA-BIA_ECW\",\"BIA-BIA_FFM\",\"BIA-BIA_FFMI\",\"BIA-BIA_FMI\",\"BIA-BIA_Fat\",\"BIA-BIA_ICW\",\"BIA-BIA_LDM\",\n",
    "           \"BIA-BIA_LST\",\"BIA-BIA_SMM\",\"BIA-BIA_TBW\",\"PAQ_A-PAQ_A_Total\",\"PAQ_C-PAQ_C_Total\"]\n",
    "def convert_float(df, features):\n",
    "    for i in features:\n",
    "        if i in df.columns:\n",
    "            df[i] = df[i].astype(\"float64\")\n",
    "convert_float(test_df, features)\n",
    "convert_float(train_df, features) "
   ]
  },
  {
   "cell_type": "code",
   "execution_count": 5,
   "id": "be303aca-ddbc-4650-86af-dd2eaf87ecaf",
   "metadata": {},
   "outputs": [],
   "source": [
    "# feature string\n",
    "features = [\"id\",\"Basic_Demos-Enroll_Season\",\"CGAS-Season\",\"Physical-Season\",\"FGC-Season\",\"BIA-Season\",\"PAQ_A-Season\",\"PAQ_C-Season\",\"PCIAT-Season\",\"SDS-Season\",\"PreInt_EduHx-Season\"]\n",
    "def convert_string(df, features):\n",
    "    for i in features:\n",
    "        if i in df.columns:\n",
    "            df[i] = df[i].astype(\"string\")\n",
    "convert_string(test_df, features)\n",
    "convert_string(train_df, features) "
   ]
  },
  {
   "cell_type": "code",
   "execution_count": 6,
   "id": "1dc5af7f-c303-4300-a0fb-93fa21706705",
   "metadata": {},
   "outputs": [
    {
     "name": "stdout",
     "output_type": "stream",
     "text": [
      "   Basic_Demos-Age  CGAS-CGAS_Score  Physical-BMI  Physical-Height  \\\n",
      "0              5.0             51.0     16.877316             46.0   \n",
      "1              9.0              NaN     14.035590             48.0   \n",
      "2             10.0             71.0     16.648696             56.5   \n",
      "3              9.0             71.0     18.292347             56.0   \n",
      "4             18.0              NaN           NaN              NaN   \n",
      "\n",
      "   Physical-Weight  Physical-Waist_Circumference  Physical-Diastolic_BP  \\\n",
      "0             50.8                           NaN                    NaN   \n",
      "1             46.0                          22.0                   75.0   \n",
      "2             75.6                           NaN                   65.0   \n",
      "3             81.6                           NaN                   60.0   \n",
      "4              NaN                           NaN                    NaN   \n",
      "\n",
      "   Physical-HeartRate  Physical-Systolic_BP  Fitness_Endurance-Max_Stage  ...  \\\n",
      "0                 NaN                   NaN                          NaN  ...   \n",
      "1                70.0                 122.0                          NaN  ...   \n",
      "2                94.0                 117.0                          5.0  ...   \n",
      "3                97.0                 117.0                          6.0  ...   \n",
      "4                 NaN                   NaN                          NaN  ...   \n",
      "\n",
      "   BIA-BIA_LDM  BIA-BIA_LST  BIA-BIA_SMM  BIA-BIA_TBW  PAQ_A-PAQ_A_Total  \\\n",
      "0      8.89536      38.9177      19.5413      32.6909                NaN   \n",
      "1     14.97400      39.4497      15.4107      27.0552                NaN   \n",
      "2          NaN          NaN          NaN          NaN                NaN   \n",
      "3     16.77900      58.9338      26.4798      45.9966                NaN   \n",
      "4          NaN          NaN          NaN          NaN               1.04   \n",
      "\n",
      "   PAQ_C-PAQ_C_Total  PCIAT-PCIAT_Total  SDS-SDS_Total_Raw  SDS-SDS_Total_T  \\\n",
      "0                NaN               55.0                NaN              NaN   \n",
      "1              2.340                0.0               46.0             64.0   \n",
      "2              2.170               28.0               38.0             54.0   \n",
      "3              2.451               44.0               31.0             45.0   \n",
      "4                NaN                NaN                NaN              NaN   \n",
      "\n",
      "   sii  \n",
      "0  2.0  \n",
      "1  0.0  \n",
      "2  0.0  \n",
      "3  1.0  \n",
      "4  NaN  \n",
      "\n",
      "[5 rows x 39 columns]\n"
     ]
    }
   ],
   "source": [
    "numeric_columns = train_df.select_dtypes(include=['int', 'float']).columns\n",
    "\n",
    "# Lấy DataFrame chỉ chứa các cột numeric\n",
    "numeric_df = train_df[numeric_columns]\n",
    "\n",
    "# Xem trước DataFrame mới\n",
    "print(numeric_df.head())"
   ]
  },
  {
   "cell_type": "code",
   "execution_count": 23,
   "id": "46e06880-1a7b-4feb-aa9d-07835358b3bc",
   "metadata": {},
   "outputs": [],
   "source": []
  },
  {
   "cell_type": "code",
   "execution_count": null,
   "id": "0d3e9698-441c-4487-888b-afd2ff6296b4",
   "metadata": {},
   "outputs": [],
   "source": []
  }
 ],
 "metadata": {
  "kernelspec": {
   "display_name": "Python 3 (ipykernel)",
   "language": "python",
   "name": "python3"
  },
  "language_info": {
   "codemirror_mode": {
    "name": "ipython",
    "version": 3
   },
   "file_extension": ".py",
   "mimetype": "text/x-python",
   "name": "python",
   "nbconvert_exporter": "python",
   "pygments_lexer": "ipython3",
   "version": "3.12.0"
  }
 },
 "nbformat": 4,
 "nbformat_minor": 5
}
